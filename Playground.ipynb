{
 "cells": [
  {
   "cell_type": "code",
   "execution_count": 1,
   "id": "e26d0992-83f9-4db8-bcb5-aacf606e2360",
   "metadata": {},
   "outputs": [],
   "source": [
    "from sudokugh import Grid\n",
    "from tests import T1, T2, T3, T4"
   ]
  },
  {
   "cell_type": "code",
   "execution_count": 7,
   "id": "dd5efcb0-9d7c-4056-83ab-bcaf85d9d665",
   "metadata": {},
   "outputs": [
    {
     "data": {
      "text/plain": [
       "array([['9', ' ', ' ', '2', ' ', ' ', '7', ' ', '6'],\n",
       "       ['5', ' ', '7', ' ', '8', ' ', ' ', '1', ' '],\n",
       "       [' ', ' ', ' ', ' ', ' ', '1', ' ', ' ', ' '],\n",
       "       ['6', ' ', ' ', ' ', '3', '7', '8', ' ', ' '],\n",
       "       [' ', ' ', ' ', ' ', ' ', ' ', '9', ' ', '5'],\n",
       "       ['4', ' ', ' ', ' ', ' ', ' ', ' ', ' ', ' '],\n",
       "       [' ', ' ', '3', '9', ' ', ' ', '4', ' ', ' '],\n",
       "       [' ', '6', '9', ' ', ' ', '8', ' ', ' ', '7'],\n",
       "       [' ', '1', ' ', ' ', ' ', '2', ' ', ' ', ' ']], dtype='<U11')"
      ]
     },
     "execution_count": 7,
     "metadata": {},
     "output_type": "execute_result"
    }
   ],
   "source": []
  },
  {
   "cell_type": "code",
   "execution_count": 5,
   "id": "1fa4644f-e93f-47c4-bf99-4a0a79092267",
   "metadata": {},
   "outputs": [
    {
     "ename": "RuntimeError",
     "evalue": "(\"Couldn't solve after\", 500, 'iterations')",
     "output_type": "error",
     "traceback": [
      "\u001b[1;31m---------------------------------------------------------------------------\u001b[0m",
      "\u001b[1;31mRuntimeError\u001b[0m                              Traceback (most recent call last)",
      "\u001b[1;32m~\\AppData\\Local\\Temp/ipykernel_13520/3762809740.py\u001b[0m in \u001b[0;36m<module>\u001b[1;34m\u001b[0m\n\u001b[1;32m----> 1\u001b[1;33m \u001b[0mg\u001b[0m\u001b[1;33m.\u001b[0m\u001b[0msolve\u001b[0m\u001b[1;33m(\u001b[0m\u001b[1;33m)\u001b[0m\u001b[1;33m\u001b[0m\u001b[1;33m\u001b[0m\u001b[0m\n\u001b[0m\u001b[0;32m      2\u001b[0m \u001b[0mg\u001b[0m\u001b[1;33m.\u001b[0m\u001b[0mdisplay\u001b[0m\u001b[1;33m(\u001b[0m\u001b[1;33m)\u001b[0m\u001b[1;33m\u001b[0m\u001b[1;33m\u001b[0m\u001b[0m\n",
      "\u001b[1;32m~\\Documents\\Programin\\WorkingVersions\\sudokugh\\sudokugh.py\u001b[0m in \u001b[0;36msolve\u001b[1;34m(self, max_iter)\u001b[0m\n\u001b[0;32m    220\u001b[0m         \u001b[1;32melse\u001b[0m\u001b[1;33m:\u001b[0m\u001b[1;33m\u001b[0m\u001b[1;33m\u001b[0m\u001b[0m\n\u001b[0;32m    221\u001b[0m             \u001b[1;32mif\u001b[0m \u001b[0mi\u001b[0m \u001b[1;33m+\u001b[0m \u001b[1;36m1\u001b[0m \u001b[1;33m==\u001b[0m \u001b[0mmax_iter\u001b[0m\u001b[1;33m:\u001b[0m\u001b[1;33m\u001b[0m\u001b[1;33m\u001b[0m\u001b[0m\n\u001b[1;32m--> 222\u001b[1;33m                 \u001b[1;32mraise\u001b[0m \u001b[0mRuntimeError\u001b[0m\u001b[1;33m(\u001b[0m\u001b[1;34m\"Couldn't solve after\"\u001b[0m\u001b[1;33m,\u001b[0m \u001b[0mmax_iter\u001b[0m\u001b[1;33m,\u001b[0m \u001b[1;34m\"iterations\"\u001b[0m\u001b[1;33m)\u001b[0m\u001b[1;33m\u001b[0m\u001b[1;33m\u001b[0m\u001b[0m\n\u001b[0m\u001b[0;32m    223\u001b[0m \u001b[1;33m\u001b[0m\u001b[0m\n\u001b[0;32m    224\u001b[0m         \u001b[0mlogging\u001b[0m\u001b[1;33m.\u001b[0m\u001b[0minfo\u001b[0m\u001b[1;33m(\u001b[0m\u001b[1;34m\"Solved\"\u001b[0m\u001b[1;33m)\u001b[0m\u001b[1;33m\u001b[0m\u001b[1;33m\u001b[0m\u001b[0m\n",
      "\u001b[1;31mRuntimeError\u001b[0m: (\"Couldn't solve after\", 500, 'iterations')"
     ]
    }
   ],
   "source": [
    "g.solve()\n",
    "g.display()"
   ]
  },
  {
   "cell_type": "code",
   "execution_count": 8,
   "id": "1a70714a-1593-43d2-9358-fe29ebb971e6",
   "metadata": {},
   "outputs": [
    {
     "name": "stdout",
     "output_type": "stream",
     "text": [
      "168 ms ± 2.96 ms per loop (mean ± std. dev. of 7 runs, 10 loops each)\n"
     ]
    }
   ],
   "source": [
    "%%timeit\n",
    "g = Grid.from_array(T3)\n",
    "g.deepsolve()\n"
   ]
  },
  {
   "cell_type": "code",
   "execution_count": null,
   "id": "c2e7a64c-d9ee-497a-a9d8-49baf517fde7",
   "metadata": {},
   "outputs": [],
   "source": []
  }
 ],
 "metadata": {
  "kernelspec": {
   "display_name": "Python 3 (ipykernel)",
   "language": "python",
   "name": "python3"
  },
  "language_info": {
   "codemirror_mode": {
    "name": "ipython",
    "version": 3
   },
   "file_extension": ".py",
   "mimetype": "text/x-python",
   "name": "python",
   "nbconvert_exporter": "python",
   "pygments_lexer": "ipython3",
   "version": "3.9.7"
  }
 },
 "nbformat": 4,
 "nbformat_minor": 5
}
